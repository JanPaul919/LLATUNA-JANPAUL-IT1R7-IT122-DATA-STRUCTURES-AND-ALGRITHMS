{
 "cells": [
  {
   "cell_type": "code",
   "execution_count": 2,
   "id": "steady-pension",
   "metadata": {},
   "outputs": [
    {
     "name": "stdout",
     "output_type": "stream",
     "text": [
      "Discuss your learnings on Chapter 1  time-frame 8:00 - 30:35. Minimum of 200 characters\n",
      "My Chapter 1 learnings are following: \n",
      "1. Basic Terminologies and Chacteristics Data Structure and Algorithm.\n",
      "2. Importance of of learning Data Structure and Algorithm.\n",
      "3. Importance of Organizing Datas.\n",
      "4. How to write Algorithm.\n",
      "5. The 4 Categories of Algorithm.\n",
      "6. And lastly, is on how to install Pycharm.\n"
     ]
    }
   ],
   "source": [
    "print (\"Discuss your learnings on Chapter 1  time-frame 8:00 - 30:35. Minimum of 200 characters\")\n",
    "\n",
    "print(\"My Chapter 1 learnings are following: \")\n",
    "\n",
    "print (\"1. Basic Terminologies and Chacteristics Data Structure and Algorithm.\")\n",
    "print (\"2. Importance of of learning Data Structure and Algorithm.\")\n",
    "print (\"3. Importance of Organizing Datas.\")\n",
    "print (\"4. How to write Algorithm.\")\n",
    "print (\"5. The 4 Categories of Algorithm.\")\n",
    "print (\"6. And lastly, is on how to install Pycharm.\")"
   ]
  },
  {
   "cell_type": "code",
   "execution_count": 3,
   "id": "hairy-wisconsin",
   "metadata": {},
   "outputs": [
    {
     "name": "stdout",
     "output_type": "stream",
     "text": [
      "Discuss your learnings on Chapter 1  time-frame 35:00 - end. Minimum of 200 characters.\n",
      "My Chapter 2 learnings are the following: \n",
      "1. The Data characteristics which are the Atomic, Traceable, Accurate, Clear and Concise.\n",
      "2. Data Types which are the Integer (for whole numbers), Boolean(True or false), Floating (decimal numbers) and Chacter and Strings.\n",
      "3. Derived Data types.\n",
      "4. The Basic operators which are the Traverse, Searching, Insertion, Updating, Deletion, Sorting and Meging.\n"
     ]
    }
   ],
   "source": [
    "print (\"Discuss your learnings on Chapter 1  time-frame 35:00 - end. Minimum of 200 characters.\")\n",
    "\n",
    "print (\"My Chapter 2 learnings are the following: \")\n",
    "print (\"1. The Data characteristics which are the Atomic, Traceable, Accurate, Clear and Concise.\")\n",
    "print (\"2. Data Types which are the Integer (for whole numbers), Boolean(True or false), Floating (decimal numbers) and Chacter and Strings.\")\n",
    "print (\"3. Derived Data types.\")\n",
    "print (\"4. The Basic operators which are the Traverse, Searching, Insertion, Updating, Deletion, Sorting and Meging.\")"
   ]
  },
  {
   "cell_type": "code",
   "execution_count": 4,
   "id": "functioning-guess",
   "metadata": {},
   "outputs": [
    {
     "name": "stdout",
     "output_type": "stream",
     "text": [
      "Discuss your learnings on Chapter 3  time-frame 3:00 - 18:00. Minimum of 200 characters. \n",
      "My Chapter 3 learnings are the following: \n",
      "1. Definition of Arrays. Arrays are containers that can hold a fix number of items that should be in same type.\n",
      "2. Definition of the Elements and Indices.\n",
      "3. In array, the indices starts at counting in 0 and not 1.\n",
      "4. I learned on how to Access, Insert, Delete and Update the elements of an Array.\n"
     ]
    }
   ],
   "source": [
    "print (\"Discuss your learnings on Chapter 3  time-frame 3:00 - 18:00. Minimum of 200 characters. \")\n",
    "print (\"My Chapter 3 learnings are the following: \")\n",
    "print (\"1. Definition of Arrays. Arrays are containers that can hold a fix number of items that should be in same type.\")\n",
    "print (\"2. Definition of the Elements and Indices.\")\n",
    "print (\"3. In array, the indices starts at counting in 0 and not 1.\")\n",
    "print (\"4. I learned on how to Access, Insert, Delete and Update the elements of an Array.\")"
   ]
  },
  {
   "cell_type": "code",
   "execution_count": 10,
   "id": "starting-administrator",
   "metadata": {},
   "outputs": [
    {
     "name": "stdout",
     "output_type": "stream",
     "text": [
      "Create your first array project.\n",
      "1\n",
      "1000\n",
      "2000\n",
      "4\n",
      "5\n"
     ]
    }
   ],
   "source": [
    "print (\"Create your first array project.\")\n",
    "from array import*\n",
    "array1 = array('i', [1, 2, 3, 4, 5])\n",
    "array1.insert(3, 2000)\n",
    "array1.remove(2)\n",
    "array1[1] = 1000\n",
    "for x in array1:\n",
    "    print(x)"
   ]
  },
  {
   "cell_type": "code",
   "execution_count": null,
   "id": "muslim-thumb",
   "metadata": {},
   "outputs": [],
   "source": []
  }
 ],
 "metadata": {
  "kernelspec": {
   "display_name": "Python 3",
   "language": "python",
   "name": "python3"
  },
  "language_info": {
   "codemirror_mode": {
    "name": "ipython",
    "version": 3
   },
   "file_extension": ".py",
   "mimetype": "text/x-python",
   "name": "python",
   "nbconvert_exporter": "python",
   "pygments_lexer": "ipython3",
   "version": "3.9.2"
  }
 },
 "nbformat": 4,
 "nbformat_minor": 5
}
